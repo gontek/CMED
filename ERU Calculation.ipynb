{
 "cells": [
  {
   "cell_type": "markdown",
   "metadata": {},
   "source": [
    "\n",
    "Estimate average equivalent residential unit based on impervious surface GIS data intersected to residential land use and residential zoning codes:\n",
    "    "
   ]
  },
  {
   "cell_type": "code",
   "execution_count": null,
   "metadata": {},
   "outputs": [],
   "source": [
    "#union imput features including impervious area polygons, lawrence zoning polygons, land use 2023 to sql server for sql exploration\n",
    "arcpy.analysis.Union(\n",
    "    in_features=r\"'Land Use 2023 YB' #;'Lawrence Zoning' #;'SWU Impervious Area\\Impervious Area' #\",\n",
    "    out_feature_class=r'C:\\Users\\kgonterwitz\\OneDrive - City of Lawrence KS\\Documents\\ArcGIS\\Projects\\KyleProj2023\\testgdb (2).sde\\\"LAWRENCE\\KGONTERWITZ\".Union_of_LandUseZoningImpervious',\n",
    "    join_attributes=\"ALL\",\n",
    "    cluster_tolerance=None,\n",
    "    gaps=\"GAPS\"\n",
    ")"
   ]
  },
  {
   "cell_type": "code",
   "execution_count": null,
   "metadata": {},
   "outputs": [],
   "source": [
    "#this dissolve sums impervious surface area to the parcel or land use geometry based on parcel ID definition\n",
    "#it does not include ROW, voids in the PARCEL layer are not included in the parcel shape union\n",
    "#this mostly matches the data in the impervious area layers\n",
    "\n",
    "arcpy.management.Dissolve(\n",
    "    in_features=r'\"LAWRENCE\\KGONTERWITZ\".Union_of_LandUseZoningImpervious',\n",
    "    out_feature_class=r\"C:\\Users\\kgonterwitz\\OneDrive - City of Lawrence KS\\Documents\\ArcGIS\\Projects\\KyleProj2023\\KyleProjDefault.gdb\\LAWRENCEKGONTERWITZ_Dissolve\",\n",
    "    dissolve_field=\"JOINPIN\",\n",
    "    statistics_fields=\"SYSCALACRES MEAN;Res_Yearbuilt FIRST;impArea SUM;flivunits MEDIAN;Shape.STArea() SUM;Imp_ID COUNT\",\n",
    "    multi_part=\"MULTI_PART\",\n",
    "    unsplit_lines=\"DISSOLVE_LINES\",\n",
    "    concatenation_separator=\"\"\n",
    ")"
   ]
  },
  {
   "cell_type": "code",
   "execution_count": null,
   "metadata": {},
   "outputs": [],
   "source": [
    "#dissolve to the land use parcel ID and common land use generalization\n",
    "arcpy.management.Dissolve(\n",
    "    in_features=r'\"LAWRENCE\\KGONTERWITZ\".Union_of_LandUseZoningImpervious',\n",
    "    out_feature_class=r\"C:\\Users\\kgonterwitz\\OneDrive - City of Lawrence KS\\Documents\\ArcGIS\\Projects\\KyleProj2023\\KyleProjDefault.gdb\\LAWRENCEKGONTERWITZ_Dissolve\",\n",
    "    dissolve_field=\"JOINPIN;Generalization\",\n",
    "    statistics_fields=\"SYSCALACRES MEAN;Res_Yearbuilt FIRST;impArea SUM;flivunits MEDIAN;Shape.STArea() SUM;Imp_ID COUNT\",\n",
    "    multi_part=\"MULTI_PART\",\n",
    "    unsplit_lines=\"DISSOLVE_LINES\",\n",
    "    concatenation_separator=\"\"\n",
    ")"
   ]
  },
  {
   "cell_type": "code",
   "execution_count": null,
   "metadata": {},
   "outputs": [],
   "source": [
    "arcpy.management.SelectLayerByAttribute(\n",
    "    in_layer_or_view=\"LAWRENCEKGONTERWITZ_Dissolve\",\n",
    "    selection_type=\"NEW_SELECTION\",\n",
    "    where_clause=\"Generalization = 'Single Family Residential' And MEDIAN_flivunits > 0\",\n",
    "    invert_where_clause=None\n",
    ")"
   ]
  },
  {
   "cell_type": "code",
   "execution_count": 1,
   "metadata": {},
   "outputs": [
    {
     "data": {
      "text/html": [
       "<div class='gpresult'><h2>Messages</h2><div id='messages' data-messages='[\"Start Time: Thursday, July 4, 2024 2:24:29 PM\",\"Sorting Attributes...\",\"Dissolving...\",\"Succeeded at Thursday, July 4, 2024 2:24:33 PM (Elapsed Time: 3.39 seconds)\"]' data-show='true'><div id = 'default' /></div></div>"
      ],
      "text/plain": [
       "<Result 'C:\\\\Users\\\\kgonterwitz\\\\OneDrive - City of Lawrence KS\\\\Documents\\\\ArcGIS\\\\Projects\\\\KyleProj2023\\\\KyleProjDefault.gdb\\\\LAWRENCEKGONTERWITZ_Dissolve_ERU'>"
      ]
     },
     "execution_count": 1,
     "metadata": {},
     "output_type": "execute_result"
    }
   ],
   "source": [
    "\n",
    "#I dissolved the dissolved layer after querying it Generalization = 'Single Family Residential'\n",
    "#use Generalization = 'Single Family Residential' And MEDIAN_flivunits > 0\n",
    "\n",
    "arcpy.management.Dissolve(\n",
    "    in_features=\"LAWRENCEKGONTERWITZ_Dissolve_defq\",\n",
    "    out_feature_class=r\"C:\\Users\\kgonterwitz\\OneDrive - City of Lawrence KS\\Documents\\ArcGIS\\Projects\\KyleProj2023\\KyleProjDefault.gdb\\LAWRENCEKGONTERWITZ_Dissolve_ERU\",\n",
    "    dissolve_field=\"Generalization\",\n",
    "    statistics_fields=\"SUM_impArea SUM;Shape_Area SUM;JOINPIN COUNT\",\n",
    "    multi_part=\"MULTI_PART\",\n",
    "    unsplit_lines=\"DISSOLVE_LINES\",\n",
    "    concatenation_separator=\"\"\n",
    ")"
   ]
  },
  {
   "cell_type": "code",
   "execution_count": 2,
   "metadata": {},
   "outputs": [
    {
     "data": {
      "text/html": [
       "<div class='gpresult'><h2>Messages</h2><div id='messages' data-messages='[\"Start Time: Thursday, July 4, 2024 2:24:39 PM\",\"Adding ERU_AVG_IMP to LAWRENCEKGONTERWITZ_Dissolve_ERU...\",\"Succeeded at Thursday, July 4, 2024 2:24:40 PM (Elapsed Time: 0.67 seconds)\"]' data-show='true'><div id = 'default' /></div></div>"
      ],
      "text/plain": [
       "<Result 'LAWRENCEKGONTERWITZ_Dissolve_ERU'>"
      ]
     },
     "execution_count": 2,
     "metadata": {},
     "output_type": "execute_result"
    }
   ],
   "source": [
    "#calculate the ERU as the sum of the SF res impervious area divided by the number of land use parcel ID units\n",
    "arcpy.management.CalculateField(\n",
    "    in_table=\"LAWRENCEKGONTERWITZ_Dissolve_ERU\",\n",
    "    field=\"ERU_AVG_IMP\",\n",
    "    expression=\"!SUM_SUM_impArea!/!COUNT_JOINPIN!\",\n",
    "    expression_type=\"PYTHON3\",\n",
    "    code_block=\"\",\n",
    "    field_type=\"TEXT\",\n",
    "    enforce_domains=\"NO_ENFORCE_DOMAINS\"\n",
    ")"
   ]
  }
 ],
 "metadata": {
  "kernelspec": {
   "display_name": "ArcGISPro",
   "language": "Python",
   "name": "python3"
  },
  "language_info": {
   "file_extension": ".py",
   "name": "python",
   "version": "3"
  }
 },
 "nbformat": 4,
 "nbformat_minor": 2
}
