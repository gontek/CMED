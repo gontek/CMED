{
 "cells": [
  {
   "cell_type": "code",
   "execution_count": null,
   "metadata": {},
   "outputs": [],
   "source": [
    "https://www.nwk.usace.army.mil/Missions/Engineering-Division/Geotechnical-Branch/Geotechnical-Design-and-Dam-Safety/"
   ]
  },
  {
   "cell_type": "code",
   "execution_count": 51,
   "metadata": {},
   "outputs": [
    {
     "name": "stdout",
     "output_type": "stream",
     "text": [
      "uplift Pressure: 27.4 psf\n",
      "slab weight: 22902.21  lb\n"
     ]
    }
   ],
   "source": [
    "#uplift\n",
    "#https://usace.contentdm.oclc.org/utils/getfile/collection/p266001coll1/id/7566\n",
    "#Kansas Sky Energy center\n",
    "    \n",
    "'''. General. Uplift pressures at the base of a structure may be determined using an assumption that\n",
    "excess hydrostatic pressures at the base of the impervious blanket are dissipated to zero through the\n",
    "thickness of the blanket. The uplift at the base of a structure would then be determined based on its\n",
    "relative position within the blanket. The uplift (flotation) calculations should conform to ETL 1110-2­\n",
    "307, \"Flotation Stability Criteria for Concrete Hydraulic Structures\", which provides guidance for\n",
    "determining if the structures are adequately stable with respect to buoyant forces.\n",
    "2. River stages to be considered for uplift calculations. River stages for the individual cases should be\n",
    "obtained from the U.S. Army Corps of Engineers, Hydrology and Hydraulic Section.\n",
    "2.1. River stages for urban levees are as follows:\n",
    "a. River at the top of flood protection structure.\n",
    "b. Design river stage (for urban levees considered 500 year flood event).\n",
    "c. 100 year flood events during construction and maintenance.\n",
    "2.2. River stages for rural levees are as follows.\n",
    "a. River at the top of flood protection structure.\n",
    "b. Design river stage\n",
    "3. Uplift factors of safety for critical structures, for different river stages and loading conditions are as\n",
    "follows:\n",
    "OPERATION CONDITIONS\n",
    "UPLIFT FACTOR OF\n",
    "SAFETY RIVER STAGE LOADING CONDITIONS\n",
    "During Construction and\n",
    "Scheduled Maintenance 1.3 100* year\n",
    "Structure considered empty\n",
    "Normal Operation 1.5 Design stage\n",
    "Water in structure at the\n",
    "normal operation elevation\n",
    "Extreme Condition\n",
    "1.1\n",
    "Top of flood\n",
    "protection\n",
    "Structure considered empty\n",
    "Note: * applies only for urban levees.\n",
    "The above factors of safety address seepage from the river to the landward excavation and\n",
    "provide uplift factors of safety only. The piping and heave factors of safety for the excavation should\n",
    "conform to the topic UNDERSEEPAGE. The uplift factors of safety should apply to both temporary \n",
    "and permanent excavations (permanent lined basins or drainage ditches excavated landward of flood\n",
    "protection).\n",
    "4. The factors of safety for a non-critical structure are the same as for a critical structure, except that\n",
    "for normal operation conditions with the river at the design elevation, the acceptable factor of safety is\n",
    "F.S. = 1.3.\n",
    "5. A guide for calculations of uplift is provided in the attached Figure F-1.\n",
    "6. Recommended references.\n",
    "6.1. EM 1110-2-3104, STRUCTURAL AND ARCHITECTURAL DESIGN OF PUMPING\n",
    "STATIONS, describes the following requirements:\n",
    "a. Method of computing uplift on pumping plants.\n",
    "b. Defines factors of safety to resist uplift for pumping plants for different loading cases. '''    \n",
    "\n",
    "#KS Sky Energy site 1 along Kansas River XS \"AA\"\n",
    "#KS River North Lawrence Section 1 at STA 107+00\n",
    "\n",
    "FS = 1.3 #1.3 is ocnsidered the acceptavele factor of safety in normal conditions\n",
    "P1 = 0 #pressure at the base of the impervious blanket at the location of the structure being investigated\n",
    "H1 = 30 #height of hydraulic grade line above base of the blanket at the structure location\n",
    "Gw = 62.4 #unit weight of water, 62.4 pcf\n",
    "\n",
    "#assume pressure is dissipated to 0 at the ground surface\n",
    "H2 = 20.5 #impervious blanket thickness\n",
    "GwP= (H1/H2)/Gw #equivalent unit weight - (H1/H2)*Gw  (Gw') or GwPrime in the usace doc\n",
    "H3 = 0.3 #depth of base of structure below grade\n",
    "P2 = H2+GwP\n",
    "\n",
    "P3 = H3*(H1/H2)*Gw #uplift pressure at base of structure\n",
    "\n",
    "print(\"uplift Pressure:\", round(P3, 2), \"psf\")  \n",
    "Conc = 150 #pcf density of concrete\n",
    "PatioArea = (18**2)*math.pi/2\n",
    "weight = Conc*PatioArea*H3\n",
    "print(\"slab weight:\", round(weight, 2),\" lb\")"
   ]
  },
  {
   "cell_type": "code",
   "execution_count": 3,
   "metadata": {},
   "outputs": [
    {
     "name": "stdout",
     "output_type": "stream",
     "text": [
      "Case A:river at top of flood protection structure 1012.07 lb/ft\n",
      "Case B: design river stage @500 yr 1380.1 lb/ft\n",
      "Case C: design river stage @100 yr 892.32 lb/ft\n",
      "Case A:river at top of flood protection structure 1012.07 lb/ft\n",
      "Case B: design river stage @500 yr 1380.1 lb/ft\n",
      "Case C: design river stage @100 yr 892.32 lb/ft\n",
      "Governing Case: 1380.1  lb/ft\n",
      "P1: 1965.6\n",
      "P2: 1965.6\n",
      "P3: 920.07\n",
      "Uplift pressure: 920.07  psf\n",
      "structure weight: 1200  lb; water weight in structure: 0  lb; weight of water above structure: 0  lb\n",
      "height of water head above structure: 0.0 Uplift Force:  920.1  lb\n",
      "Normal Operation FS: 1.3\n"
     ]
    }
   ],
   "source": [
    "#KS Sky Energy site 1 along Kansas River XS \"AA\"\n",
    "#KS River North Lawrence Section 1 at STA 107+00\n",
    "\n",
    "#DesignElevations\n",
    "FPE=844.5 #ks dasc tile 81683 2021 lidar, top of levee\n",
    "F500YR = 844.5\n",
    "F100YR = 836.5 # base flood elevation in feet\n",
    "IBE = 813 #base of impervious blanket elevation in feet  # might also be 813 ft of IBE to sand layer\n",
    "GE = 836.5  #grade elevation in feet\n",
    "DF = 11 #footing depth\n",
    "FB = GE-DF #base of footing elevation in feet\n",
    "\n",
    "w = 62.4 #pcf density of water\n",
    "Conc = 150 #pcf density of concrete\n",
    "Pile = 200 #lb\n",
    "Load = 800 #lb\n",
    "    \n",
    "#uplift Calculations for post Footings\n",
    "def CASE_A(footing): #'river at top of flood protection structure'\n",
    "    FS = 1.1\n",
    "    HGA = FPE\n",
    "    H1A = HGA-IBE\n",
    "    H2A = GE-IBE\n",
    "    H3A = GE-footing\n",
    "    UPLIFTA = H3A*(H1A/H2A)*w*FS\n",
    "    print(\"Case A:river at top of flood protection structure\", round(UPLIFTA, 2), \"lb/ft\")\n",
    "    return UPLIFTA\n",
    "    #uplift Calculations for Trench Footings\n",
    "def CASE_B(footing): #'design river stage @500 yr'\n",
    "    FS = 1.5\n",
    "    HGB = F500YR\n",
    "    H1B = HGB-IBE\n",
    "    H2B = GE-IBE\n",
    "    H3B = GE-footing\n",
    "    UPLIFTB = H3B*(H1B/H2B)*w*FS\n",
    "    print(\"Case B: design river stage @500 yr\", round(UPLIFTB,2), \"lb/ft\")\n",
    "    return UPLIFTB\n",
    "def CASE_C(footing): #'design river stage @100 yr'\n",
    "    FS = 1.3\n",
    "    HGC = F100YR\n",
    "    H1C = HGC-IBE\n",
    "    H2C = GE-IBE\n",
    "    H3C = GE-footing\n",
    "    UPLIFTC = H3C*(H1C/H2C)*w*FS\n",
    "    print(\"Case C: design river stage @100 yr\",round(UPLIFTC, 2), \"lb/ft\")\n",
    "    return UPLIFTC\n",
    "\n",
    "CASE_A(FB)\n",
    "CASE_B(FB)\n",
    "CASE_C(FB)\n",
    "\n",
    "#CASE_A(ISF)\n",
    "#CASE_B(ISF)\n",
    "#CASE_C(ISF)\n",
    "\n",
    "\n",
    "governingCase = (max(CASE_A(FB), CASE_B(FB), CASE_C(FB)))\n",
    "#governingCase2 = (max(CASE_A(ISF),CASE_B(ISF), CASE_C(ISF)))\n",
    "print(\"Governing Case:\", round(governingCase, 2),  \" lb/ft\")\n",
    "#print(governingCase2)\n",
    "\n",
    "#ColumnD = 2 #ft\n",
    "#ColumnA = math.pi*(ColumnD/2)**2\n",
    "#no columns in 300 elm patio\n",
    "#print(\"Column bottom area in SF\", Column)\n",
    "FS = 1.5\n",
    "\n",
    "HGB = F500YR\n",
    "H1B = HGB-IBE\n",
    "H2B = GE-IBE\n",
    "H3B = DF\n",
    "P1 = H1B*w\n",
    "P2 = H2B*H1B/H2B*w\n",
    "P3 = H3B*H1B/H2B*w\n",
    "\n",
    "Uplift = P3\n",
    "\n",
    "print (\"P1:\", round(P1, 2))\n",
    "print (\"P2:\", round(P2, 2))\n",
    "print (\"P3:\", round(P3, 2))\n",
    "print(\"Uplift pressure:\", round(Uplift, 2), \" psf\")\n",
    "\n",
    "#Flotation Equation\n",
    "#(We+Wc+S)/(U-Wg) > SF\n",
    "\n",
    "#flotation equation from em1110-2-2100\n",
    "#FSf = (Ws+Wc+S)/(U-Wg)\n",
    "\n",
    "Ws = 1200 # WAG in lbs for weight of structure\n",
    "Wc = 0 #weight of water in structure\n",
    "S = 0 #Surcharge Load\n",
    "Wg = w*(H1B/H2B) #equivalent unit weight of surcharge water above top of structure\n",
    "Wg = 0 #assume no surcharge\n",
    "#H = F500YR-FB #Head of water height over structure\n",
    "H = 0.0 #assumme no surcharge or head\n",
    "U = P3*1 #Uplift Force #acting on cross section area of H pile   \n",
    "Result = (Ws+Wc+S)/(U-Wg)\n",
    "\n",
    "print(\"structure weight:\", round(Ws, 0), \" lb; water weight in structure:\", Wc, \" lb; weight of water above structure:\", Wg, \" lb\")\n",
    "print(\"height of water head above structure:\",  H, \"Uplift Force: \", round(U, 1), \" lb\")\n",
    "print(\"Normal Operation FS:\", round(Result, 1))\n",
    "\n"
   ]
  },
  {
   "cell_type": "code",
   "execution_count": 39,
   "metadata": {},
   "outputs": [
    {
     "name": "stdout",
     "output_type": "stream",
     "text": [
      "Column bottom area in SF 3.141592653589793\n"
     ]
    },
    {
     "ename": "NameError",
     "evalue": "name 'H1B' is not defined",
     "output_type": "error",
     "traceback": [
      "\u001b[0;31m---------------------------------------------------------------------------\u001b[0m\n\u001b[0;31mNameError\u001b[0m                                 Traceback (most recent call last)",
      "In  \u001b[0;34m[39]\u001b[0m:\nLine \u001b[0;34m8\u001b[0m:     P1 = H1B*w\u001b[37m\u001b[39;49;00m\n",
      "\u001b[0;31mNameError\u001b[0m: name 'H1B' is not defined\n\u001b[0;31m---------------------------------------------------------------------------\u001b[0m"
     ]
    }
   ],
   "source": [
    "##assume zero dead loads on top of footing \n",
    "\n",
    "ColumnD = 24 #iches\n",
    "Column = math.pi*(ColumnD/12/2)**2\n",
    "\n",
    "print(\"Column bottom area in SF\", Column)\n",
    "\n",
    "P1 = H1B*w\n",
    "\n",
    "P2 = H2B * H1B/H2B*w\n",
    "\n",
    "P3 = H3* H1B/H2B*w\n",
    "\n",
    "Uplift = P3"
   ]
  },
  {
   "cell_type": "code",
   "execution_count": 97,
   "metadata": {},
   "outputs": [
    {
     "name": "stdout",
     "output_type": "stream",
     "text": [
      "Interior Spread Footing 2400\n",
      "2400\n",
      "0\n",
      "6110\n",
      "8510\n",
      "1612.122352941175\n",
      "3896.9082352941186\n",
      "Design Load Greater than uplift, OK\n"
     ]
    },
    {
     "data": {
      "text/plain": [
       "'WallBearingLoads(dimensionE)\\nWallBearingLoads(dimensionW)\\nWallBearingLoads(dimensionS)\\nWallBearingLoads(dimensionI)\\nInteriorPad()\\n    '"
      ]
     },
     "execution_count": 97,
     "metadata": {},
     "output_type": "execute_result"
    }
   ],
   "source": [
    "#DEADLOADS sample proj 1\n",
    "#assume zero dead loads on top of footing \n",
    "Roof_Ceiling = 0 #psf\n",
    "Floor = 0 #psf\n",
    "WoodWall = 0 #psf\n",
    "ConcWall = 0 #psf\n",
    "\n",
    "#BearingLoads Interior Pad\n",
    "\n",
    "RoofTrib = 13*16\n",
    "Floor1 = 13*16\n",
    "Floor2 = 13*7\n",
    "\n",
    "\n",
    "#dimension = [descrioptio, roof, floor, wood wall, conc wall]\n",
    "dimensionN = [\"footing\", 0, 0, 0, 3]\n",
    "\n",
    "#dimension in sq ft\n",
    "RoofTrib = 13*16\n",
    "Floor1 = 13*16\n",
    "Floor2 = 13*7\n",
    "ColumnD = 24\n",
    "Column = pi()*ColumnD/2\n",
    "Footing = [\"deck footing\", 2, 3]\n",
    "#FootingWallW_buried = [\"buried footing at west wall\", 1.33, 0.67, 2.33]\n",
    "#FootingWallE_buried = [\"buried footing at east wall\", 1.33, 0.67, 2.33]\n",
    "#FootingWallS_buried = [\"buried footing at south wall\", 1.33, 0.67, 2.33]\n",
    "#FootingWallI_buried = [\"interior bearing wall footing\", 2, 3, 0]\n",
    "#FootingSpreadI = [\"Interior Spread Footing\", 4, 4, 1]\n",
    "\n",
    "#BearingLoads\n",
    "   \n",
    "def WallBearingLoads(dim):\n",
    "    RoofTrib = dim[1]\n",
    "    FloorTrib = dim[2]\n",
    "    WallHt = dim[3] #wood\n",
    "    ConcHt = dim[4] #conc\n",
    "    wt= RoofTrib*Roof_Ceiling+FloorTrib*Floor+WallHt*WoodWall+ConcWall*ConcHt\n",
    "    print(dim[0], wt)\n",
    "    return wt\n",
    "\n",
    "def InteriorPadLoad():\n",
    "    ColumnDL = c = RoofTrib*Roof_Ceiling+Floor1*Floor+Floor2*Floor\n",
    "    print(\"Column DL\", c)\n",
    "\n",
    "def InteriorPadFooting():\n",
    "    ColumnDL = RoofTrib*Roof_Ceiling+Floor1*Floor+Floor2*Floor\n",
    "    iwt = ColumnDL\n",
    "    return iwt\n",
    "    print(\"Interior\", ColumnDL)\n",
    "    \n",
    "def ColumnFooting():\n",
    "    ColumnDL = RoofTrib*Roof_Ceiling+Floor1*Floor+Floor2*Floor\n",
    "    iwt = Column\n",
    "    return iwt\n",
    "    print(\"Interior\", ColumnDL)    \n",
    "    \n",
    "def FootingDeadLoad(dim1, wt):\n",
    "    FDL = dim1[1]*dim1[2]*Conc\n",
    "    FWDL = Conc*dim1[2]*dim1[3]\n",
    "    FWDL = 0\n",
    "    print(dim1[0], FDL)\n",
    "    print(FDL)\n",
    "    print(FWDL)\n",
    "    print(wt)\n",
    "    TotalDL = int(wt)+int(FDL)+int(FWDL)\n",
    "    print(TotalDL)\n",
    "    F = governingCase*dim1[1]\n",
    "    print(F)\n",
    "    DLC=0.6*TotalDL-0.75*F\n",
    "    print(DLC)\n",
    "    if DLC >0:\n",
    "        print(\"Design Load Greater than uplift, OK\")\n",
    "    else:\n",
    "        print(\"uplift is greater than load, not OK\")\n",
    "\n",
    "#wt = WallBearingLoads(dimensionI)\n",
    "iwt = InteriorPadFooting()\n",
    "FootingDeadLoad(FootingSpreadI, iwt)\n",
    "\n",
    "'''WallBearingLoads(dimensionE)\n",
    "WallBearingLoads(dimensionW)\n",
    "WallBearingLoads(dimensionS)\n",
    "WallBearingLoads(dimensionI)\n",
    "InteriorPad()\n",
    "    '''\n",
    "\n",
    "\n",
    "\n",
    "    \n",
    "#FoodingDeadLoad(TrenchFootingWallN)\n"
   ]
  },
  {
   "cell_type": "code",
   "execution_count": 104,
   "metadata": {},
   "outputs": [
    {
     "name": "stdout",
     "output_type": "stream",
     "text": [
      "900 0 923.52 10.399999999999977 1297.92\n",
      "2.4038461538461533\n"
     ]
    }
   ],
   "source": [
    "#Flotation Equation  sample proj 1\n",
    "#(We+Wc+S)/(U-Wg) > SF\n",
    "\n",
    "SF = 1.5 #normal use\n",
    "Ws = Conc*2*3 #weight of structure\n",
    "Wc = 0 #weight of water in structure\n",
    "S = 0 #Surcharge Load\n",
    "Wg = w*(10.4-3)*2 #weight of surcharge water above top of structure\n",
    "H = 832.5-822 #Head of water height over structure\n",
    "U = w*10.4*2 #Uplift Force  = water density * Head of water height over structure\n",
    "\n",
    "Result = (Ws+Wc+S)/(U-Wg)\n",
    "\n",
    "print(Ws, Wc, Wg, H, U)\n",
    "print(Result)\n"
   ]
  },
  {
   "cell_type": "code",
   "execution_count": 44,
   "metadata": {},
   "outputs": [
    {
     "name": "stdout",
     "output_type": "stream",
     "text": [
      "1\n"
     ]
    }
   ],
   "source": []
  },
  {
   "cell_type": "code",
   "execution_count": 1,
   "metadata": {},
   "outputs": [
    {
     "name": "stdout",
     "output_type": "stream",
     "text": [
      "Case A Uplift  181.13\n",
      "Case B Uplift  260.0\n",
      "Case C Uplift  146.47\n",
      "Case A Uplift  181.13\n",
      "Case B Uplift  260.0\n",
      "Case C Uplift  146.47\n",
      "Governing Case  260.0\n"
     ]
    }
   ],
   "source": [
    "#SAMPLE PROJECT 2 Uplift Check\n",
    "\n",
    "#DesignElevations\n",
    "FPE=830 #ks dasc tile 81683 2021 lidar, top of levee\n",
    "F500YR = 831\n",
    "F100YR = 824.0 # base flood elevation in feet\n",
    "IBE = 811.0 #impervious blanket elevation in feet\n",
    "GE = 829  #grade elevation in feet\n",
    "FB = 826.5 #base of footing elevation in feet\n",
    "ISF = 826.5 #interior spread footing elevation in feet\n",
    "FFE = 830\n",
    "w = 62.4 #pcf density of water\n",
    "Conc = 150 #pcf density of concrete\n",
    "    \n",
    "#uplift Calculations for Trench Footings\n",
    "def CASE_A(footing): #'river at top of flood protection structure'\n",
    "    #footing is FB elevation for call to return Uplift A\n",
    "    FS = 1.1\n",
    "    HGA = FPE\n",
    "    H1A = HGA-IBE\n",
    "    H2A = GE-IBE\n",
    "    H3A = GE-footing\n",
    "    UPLIFTA = H3A*(H1A/H2A)*w*FS\n",
    "    print(\"Case A Uplift \", str(round(UPLIFTA, 2)))\n",
    "    return UPLIFTA\n",
    "    #uplift Calculations for Trench Footings\n",
    "def CASE_B(footing): #'design river stage @500 yr'\n",
    "    FS = 1.5\n",
    "    HGB = F500YR\n",
    "    H1B = HGB-IBE\n",
    "    H2B = GE-IBE\n",
    "    H3B = GE-footing\n",
    "    UPLIFTB = H3B*(H1B/H2B)*w*FS\n",
    "    print(\"Case B Uplift \", str(round(UPLIFTB, 2)))\n",
    "    return UPLIFTB\n",
    "def CASE_C(footing): #'design river stage @500 yr'\n",
    "    FS = 1.3\n",
    "    HGC = F100YR\n",
    "    H1C = HGC-IBE\n",
    "    H2C = GE-IBE\n",
    "    H3C = GE-footing\n",
    "    UPLIFTC = H3C*(H1C/H2C)*w*FS\n",
    "    print(\"Case C Uplift \", str(round(UPLIFTC, 2)))\n",
    "    return UPLIFTC\n",
    "\n",
    "CASE_A(FB)\n",
    "CASE_B(FB)\n",
    "CASE_C(FB)\n",
    "\n",
    "#CASE_A(ISF)\n",
    "#CASE_B(ISF)\n",
    "#CASE_C(ISF)\n",
    "\n",
    "\n",
    "governingCase = (max(CASE_A(FB), CASE_B(FB), CASE_C(FB)))\n",
    "#governingCase2 = (max(CASE_A(ISF),CASE_B(ISF), CASE_C(ISF)))\n",
    "print(\"Governing Case \", str(governingCase))\n",
    "#print(\"Governing Case 2\", str(governingCase2))\n"
   ]
  },
  {
   "cell_type": "code",
   "execution_count": 2,
   "metadata": {},
   "outputs": [
    {
     "name": "stdout",
     "output_type": "stream",
     "text": [
      "830\n"
     ]
    }
   ],
   "source": [
    "print(FPE)\n"
   ]
  },
  {
   "cell_type": "code",
   "execution_count": 5,
   "metadata": {},
   "outputs": [
    {
     "name": "stdout",
     "output_type": "stream",
     "text": [
      "Interior Footing E Entrance 600\n",
      "600\n",
      "0\n",
      "56000\n",
      "56600\n",
      "520.0\n",
      "33570.0\n",
      "Design Load Greater than uplift, OK\n"
     ]
    },
    {
     "data": {
      "text/plain": [
       "'WallBearingLoads(dimensionE)\\nWallBearingLoads(dimensionW)\\nWallBearingLoads(dimensionS)\\nWallBearingLoads(dimensionI)\\nInteriorPad()\\n    '"
      ]
     },
     "execution_count": 5,
     "metadata": {},
     "output_type": "execute_result"
    }
   ],
   "source": [
    "#DEADLOADS example house 2\n",
    "Roof_Ceiling = 10 #psf\n",
    "Floor = 10 #psf\n",
    "WoodWall = 10 #psf\n",
    "ConcWall = 100 #psf\n",
    "\n",
    "#BearingLoads Interior Pad\n",
    "\n",
    "#the analysis can be performed for only the footings sans the building on top of the footings and still probably meet uplift FS\n",
    "\n",
    "#SmallFootings 2x2 D1, C1\n",
    "#LargeFootings 3x3 B1\n",
    "\n",
    "#dimension = [tribarea, roof, floor, wood wall, conc wall]\n",
    "dimensionN = [\"north wall\", 13.5, 12, 0, 0]\n",
    "dimensionE = [\"east wall\", 12, 12, 0, 0]\n",
    "dimensionW = [\"west wall\", 12, 12, 0, 0]\n",
    "dimensionS = [\"south wall\", 12, 12, 0, 0]\n",
    "dimensionI = [\"interior bearing wall\", 10, 12, 0, 0]\n",
    "dimensionNw = [\"e entrance bearing wall\", 10, 12, 0, 0]\n",
    "dimensionNe = [\"w entrance bearing wall\", 10, 12, 0, 0]\n",
    "\n",
    "RoofTrib = 50*56\n",
    "Floor1 = 50*56\n",
    "\n",
    "#dimension = [footing section for analysis, width, depth to floor, floor depth]\n",
    "FootingWallN_buried = [\"buried footing at north wall\", 1, 2.5, .5]\n",
    "FootingWallW_buried = [\"buried footing at west wall\", 1, 2.5, .5]\n",
    "FootingWallE_buried = [\"buried footing at east wall\", 1, 2.5, .5]\n",
    "FootingWallS_buried = [\"buried footing at south wall\", 1, 2.5, .5]\n",
    "FootingWallI_buried = [\"interior bearing wall footing\", 2, 1, .5]\n",
    "FootingEntranceE = [\"Interior Footing E Entrance\", 2, 2, .5]\n",
    "FootingEntranceW = [\"Interior Footing W Entrance\", 2, 2, .5]\n",
    "#BearingLoads\n",
    "   \n",
    "def WallBearingLoads(dim):\n",
    "    RoofTrib = dim[1]\n",
    "    FloorTrib = dim[2]\n",
    "    WallHt = dim[3] #wood\n",
    "    ConcHt = dim[4] #conc\n",
    "    wt= RoofTrib*Roof_Ceiling+FloorTrib*Floor+WallHt*WoodWall+ConcWall*ConcHt\n",
    "    print(dim[0], wt)\n",
    "    return wt\n",
    "\n",
    "def InteriorPadLoad():\n",
    "    ColumnDL = c = RoofTrib*Roof_Ceiling+Floor1*Floor\n",
    "    print(\"Column DL\", c)\n",
    "\n",
    "def InteriorPadFooting():\n",
    "    ColumnDL = RoofTrib*Roof_Ceiling+Floor1*Floor\n",
    "    iwt = ColumnDL\n",
    "    return iwt\n",
    "    print(\"Interior\", ColumnDL)\n",
    "    \n",
    "def FootingDeadLoad(dim1, wt):\n",
    "    FDL = dim1[1]*dim1[2]*Conc\n",
    "    FWDL = Conc*dim1[2]*dim1[3]\n",
    "    FWDL = 0\n",
    "    print(dim1[0], FDL)\n",
    "    print(FDL)\n",
    "    print(FWDL)\n",
    "    print(wt)\n",
    "    TotalDL = int(wt)+int(FDL)+int(FWDL)\n",
    "    print(TotalDL)\n",
    "    F = governingCase*dim1[1]\n",
    "    print(F)\n",
    "    DLC=0.6*TotalDL-0.75*F\n",
    "    print(DLC)\n",
    "    if DLC >0:\n",
    "        print(\"Design Load Greater than uplift, OK\")\n",
    "    else:\n",
    "        print(\"uplift is greater than load, not OK\")\n",
    "\n",
    "#wt = WallBearingLoads(dimensionI)\n",
    "iwt = InteriorPadFooting()\n",
    "FootingDeadLoad(FootingEntranceE, iwt)\n",
    "\n",
    "'''WallBearingLoads(dimensionE)\n",
    "WallBearingLoads(dimensionW)\n",
    "WallBearingLoads(dimensionS)\n",
    "WallBearingLoads(dimensionI)\n",
    "InteriorPad()\n",
    "    '''\n",
    "    \n",
    "#FoodingDeadLoad(TrenchFootingWallN)\n"
   ]
  },
  {
   "cell_type": "code",
   "execution_count": 6,
   "metadata": {},
   "outputs": [
    {
     "name": "stdout",
     "output_type": "stream",
     "text": [
      "900 0 923.52 4.5 1297.92\n",
      "2.4038461538461533\n"
     ]
    }
   ],
   "source": [
    "#Flotation Equation\n",
    "#(We+Wc+S)/(U-Wg) > SF\n",
    "\n",
    "SF = 1.5 #normal use\n",
    "Ws = Conc*2*3 #weight of structure\n",
    "Wc = 0 #weight of water in structure\n",
    "S = 0 #Surcharge Load\n",
    "Wg = w*(10.4-3)*2 #weight of surcharge water above top of structure\n",
    "H = F500YR-FB #Head of water height over structure\n",
    "U = w*10.4*2 #Uplift Force  = water density * Head of water height over structure\n",
    "\n",
    "Result = (Ws+Wc+S)/(U-Wg)\n",
    "\n",
    "print(Ws, Wc, Wg, H, U)\n",
    "print(Result)\n"
   ]
  },
  {
   "cell_type": "code",
   "execution_count": 33,
   "metadata": {},
   "outputs": [
    {
     "name": "stdout",
     "output_type": "stream",
     "text": [
      "Case A Uplift  105.35\n"
     ]
    }
   ],
   "source": []
  },
  {
   "cell_type": "code",
   "execution_count": 40,
   "metadata": {},
   "outputs": [
    {
     "data": {
      "text/plain": [
       "1350"
      ]
     },
     "execution_count": 40,
     "metadata": {},
     "output_type": "execute_result"
    }
   ],
   "source": [
    "150*9\n"
   ]
  },
  {
   "cell_type": "code",
   "execution_count": null,
   "metadata": {},
   "outputs": [],
   "source": []
  }
 ],
 "metadata": {
  "kernelspec": {
   "display_name": "ArcGISPro",
   "language": "python",
   "name": "python3"
  },
  "language_info": {
   "file_extension": ".py",
   "mimetype": "text/x-python",
   "name": "python",
   "version": "3.11.10"
  }
 },
 "nbformat": 4,
 "nbformat_minor": 4
}
